{
 "cells": [
  {
   "cell_type": "code",
   "execution_count": 6,
   "metadata": {},
   "outputs": [
    {
     "name": "stdout",
     "output_type": "stream",
     "text": [
      "                  Port         Measure  Year    Month            Border  \\\n",
      "0              Douglas  Bus Passengers  1996  January  US-Mexico Border   \n",
      "1            Lukeville  Bus Passengers  1996  January  US-Mexico Border   \n",
      "2                 Naco  Bus Passengers  1996  January  US-Mexico Border   \n",
      "3              Nogales  Bus Passengers  1996  January  US-Mexico Border   \n",
      "4             San Luis  Bus Passengers  1996  January  US-Mexico Border   \n",
      "...                ...             ...   ...      ...               ...   \n",
      "87988         Presidio          Trucks  2022     June  US-Mexico Border   \n",
      "87989         Progreso          Trucks  2022     June  US-Mexico Border   \n",
      "87990  Rio Grande City          Trucks  2022     June  US-Mexico Border   \n",
      "87991             Roma          Trucks  2022     June  US-Mexico Border   \n",
      "87992           Ysleta          Trucks  2022     June  US-Mexico Border   \n",
      "\n",
      "         State       Date  Value  \n",
      "0      Arizona 1996-01-01    270  \n",
      "1      Arizona 1996-01-01   1131  \n",
      "2      Arizona 1996-01-01      0  \n",
      "3      Arizona 1996-01-01    804  \n",
      "4      Arizona 1996-01-01    320  \n",
      "...        ...        ...    ...  \n",
      "87988    Texas 2022-06-01    225  \n",
      "87989    Texas 2022-06-01   3069  \n",
      "87990    Texas 2022-06-01   4613  \n",
      "87991    Texas 2022-06-01   3434  \n",
      "87992    Texas 2022-06-01  56011  \n",
      "\n",
      "[87993 rows x 8 columns]\n",
      "Separate\n",
      "\n",
      "\n",
      "\n",
      "\n",
      "                  Port         Measure  Year    Month            Border  \\\n",
      "0              Douglas  Bus Passengers  1996  January  US-Mexico Border   \n",
      "1            Lukeville  Bus Passengers  1996  January  US-Mexico Border   \n",
      "2                 Naco  Bus Passengers  1996  January  US-Mexico Border   \n",
      "3              Nogales  Bus Passengers  1996  January  US-Mexico Border   \n",
      "4             San Luis  Bus Passengers  1996  January  US-Mexico Border   \n",
      "...                ...             ...   ...      ...               ...   \n",
      "87988         Presidio          Trucks  2022     June  US-Mexico Border   \n",
      "87989         Progreso          Trucks  2022     June  US-Mexico Border   \n",
      "87990  Rio Grande City          Trucks  2022     June  US-Mexico Border   \n",
      "87991             Roma          Trucks  2022     June  US-Mexico Border   \n",
      "87992           Ysleta          Trucks  2022     June  US-Mexico Border   \n",
      "\n",
      "         State       Date  Value  \n",
      "0      Arizona 1996-01-01    270  \n",
      "1      Arizona 1996-01-01   1131  \n",
      "2      Arizona 1996-01-01      0  \n",
      "3      Arizona 1996-01-01    804  \n",
      "4      Arizona 1996-01-01    320  \n",
      "...        ...        ...    ...  \n",
      "87988    Texas 2022-06-01    225  \n",
      "87989    Texas 2022-06-01   3069  \n",
      "87990    Texas 2022-06-01   4613  \n",
      "87991    Texas 2022-06-01   3434  \n",
      "87992    Texas 2022-06-01  56011  \n",
      "\n",
      "[87993 rows x 8 columns]\n"
     ]
    }
   ],
   "source": [
    "import pandas as pd\n",
    "import plotly.express as px\n",
    "import dash as dash\n",
    "from dash import dcc, ctx\n",
    "from dash import html, dash_table\n",
    "import dash_bootstrap_components as dbc\n",
    "import dash_daq as daq\n",
    "from dash.dependencies import Input, Output, State\n",
    "import pathlib\n",
    "import plotly.graph_objects as go\n",
    "\n",
    "df= pd.read_excel(\"Border Crossings.xlsx\")\n",
    "print(df)\n",
    "df=df.groupby('Year')['Value'].apply(lambda x: x.div(x.iloc[0]).subtract(1).mul(100))\n",
    "print(\"Separate\")\n",
    "print(\"\")\n",
    "print(\"\")\n",
    "print(\"\")\n",
    "print(\"\")\n",
    "print(df)"
   ]
  }
 ],
 "metadata": {
  "kernelspec": {
   "display_name": "Python 3.9.12 64-bit",
   "language": "python",
   "name": "python3"
  },
  "language_info": {
   "codemirror_mode": {
    "name": "ipython",
    "version": 3
   },
   "file_extension": ".py",
   "mimetype": "text/x-python",
   "name": "python",
   "nbconvert_exporter": "python",
   "pygments_lexer": "ipython3",
   "version": "3.9.12"
  },
  "orig_nbformat": 4,
  "vscode": {
   "interpreter": {
    "hash": "ce8d18e25fafd45465a43683a14eb74116fbaf04df23fbd65b01e5f92093fb75"
   }
  }
 },
 "nbformat": 4,
 "nbformat_minor": 2
}
